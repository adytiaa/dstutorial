{
 "cells": [
  {
   "cell_type": "markdown",
   "metadata": {
    "slideshow": {
     "slide_type": "slide"
    }
   },
   "source": [
    "# Machine Learning Introduction\n",
    "\n",
    "## Details\n",
    "\n",
    "Machine Learning – Problemstellung und Lösungen Einführung in das Python Paket „Pandas“ Das Einlesen von Daten Die Analyse von Daten Datenmanipulationen Machine Learning Grundlagen Die Unterschiede zwischen Überwachtem und Unüberwachtem Lernen Vorstellung verschiedener Modelle, wie Lineare Regression, Logistische Regression k-means Clustering K-nearest neighbours Die Validierung von Modellen (Cross Validation)\n",
    "\n",
    "* There is much debate among scholars and practitioners about what data science is, and what it isn’t. Does it deal only with big data? What constitutes big data? Is data science really that new? How is it different from statistics and analytics?"
   ]
  },
  {
   "cell_type": "markdown",
   "metadata": {
    "slideshow": {
     "slide_type": "slide"
    }
   },
   "source": [
    "# Tutorial Outline\n",
    "\n",
    "### 1. Pandas and Visualisation: Data Analysis\n",
    "\n",
    "### 2. Machine learning in more detail\n",
    "\n",
    "### 3. Evaluation of models "
   ]
  },
  {
   "cell_type": "markdown",
   "metadata": {
    "slideshow": {
     "slide_type": "slide"
    }
   },
   "source": [
    "\n",
    "# Day 3\n",
    "\n",
    "### Machine learning: a detailed introduction\n",
    "\n",
    "### Using scikit-learn to do machine learning\n",
    "\n",
    "### Evaluation techniques\n",
    "\n",
    "\n"
   ]
  },
  {
   "cell_type": "markdown",
   "metadata": {
    "slideshow": {
     "slide_type": "slide"
    }
   },
   "source": [
    "\n",
    "# General Outline\n",
    "\n",
    "### What is machine learning?\n",
    "    \n",
    "###   Supervised and Unsupervised learning\n",
    "    \n",
    " ###  Scikit-Learn for Machine Learning \n",
    "    \n",
    "###    Model evaluation and Validation\n",
    "        \n",
    "###    Summary\n"
   ]
  },
  {
   "cell_type": "markdown",
   "metadata": {
    "slideshow": {
     "slide_type": "slide"
    }
   },
   "source": [
    "# Machine Learning\n",
    "\n",
    "1. Introduction to machine learning\n",
    "\n",
    "    Supervised vs. unsupervised learning\n",
    "    Examples of applications of supervised and unsupervised learning\n",
    "    Pattern recognition cycle\n",
    "\n",
    "2. Approaches to supervised learning:\n",
    "\n",
    "Methods that estimate probability density functions explicitly\n",
    "\n",
    "    Parametric methods: Quadratic Discriminant Analysis, Linear Discriminant Analysis, Diagonal Linear Discriminant Analysis\n",
    "    Non-parametric methods: Histogram method, k-Nearest Neighbor\n",
    "\n",
    "Methods that estimate decision boundaries directly:                                      \n",
    "\n",
    "    Linear: Logistic discrimination, support vector machines\n",
    "    Nonlinear – neural networks (multilayer perceptron)\n",
    "    Decision trees and random forest\n",
    "\n",
    "3. Performance assessment:\n",
    "\n",
    "    Metrics: Accuracy, Area Under Receiver Operating Characteristic curve (ROC)\n",
    "    Methods: hold-out, leave-one out cross-validation, N-fold cross-validation\n",
    "\n",
    "4. Feature selection:\n",
    "\n",
    "    Filter\n",
    "    Wrapper\n",
    "    Search algorithms: Best Individual N, Forward selection, Backward deletion, Combinatorial\n",
    "\n",
    "5. Feature extraction: Principal component analysis (PCA)"
   ]
  },
  {
   "cell_type": "markdown",
   "metadata": {
    "slideshow": {
     "slide_type": "slide"
    }
   },
   "source": [
    "# Machine Learning - Introduction\n",
    "\n",
    "### It is a scientific discipline concerned with the design and development of Algorithms that allow computers to evolve behaviors based on empirical data, such as from sensor data or databases.\n",
    "\n",
    "### A learner can take advantage of examples (data) to capture characteristics of interest of their unknown underlying probability distribution. Data can be seen as examples that illustrate relations between observed variables.\n",
    "\n",
    "### A major focus of machine learning research is to automatically learn to recognize complex patterns and make intelligent decisions based on data.\n",
    "\n"
   ]
  },
  {
   "cell_type": "markdown",
   "metadata": {
    "slideshow": {
     "slide_type": "slide"
    }
   },
   "source": [
    "# What is Machine Learning?\n",
    "\n",
    "### Definition: Machine learning is an application of artificial intelligence (AI) that provides systems the ability to automatically learn and improve from experience without being explicitly programmed. Machine learning focuses on the development of computer programs that can access data and use it learn for themselves.\n",
    "\n",
    "\n",
    "### Definition by prof. Tom Mitchell: A computer program is said to learn from experience E with respect to some task T and some performance measure P, if its performance on T, as measured by P, improves with experience E.\n",
    "\n",
    "\n",
    "### Machine Learning is about building programs with tunable parameters (typically an array of floating point values) that are adjusted automatically so as to improve their behavior by adapting to previously seen data.\n",
    "\n",
    "### Machine Learning can be considered a subfield of Artificial Intelligence since those algorithms can be seen as building blocks to make computers learn to behave more intelligently by somehow generalizing rather that just storing and retrieving data items like a database system would do.\n",
    "\n"
   ]
  },
  {
   "cell_type": "markdown",
   "metadata": {
    "collapsed": true,
    "slideshow": {
     "slide_type": "slide"
    }
   },
   "source": [
    "\n",
    "# What is Machine Learning?\n",
    "\n",
    "## One more definition: \"Machine learning is the semi-automated extraction of knowledge from data\"\n",
    "\n",
    "\n",
    "## Knowledge from data: Starts with a question that might be answerable using data\n",
    "\n",
    "## Automated extraction: A computer provides the insight\n",
    "\n",
    "## Semi-automated: Requires many smart decisions by a human\n",
    "\n",
    "\n",
    "\n"
   ]
  },
  {
   "cell_type": "code",
   "execution_count": null,
   "metadata": {
    "collapsed": true
   },
   "outputs": [],
   "source": [
    "\n",
    "\n"
   ]
  },
  {
   "cell_type": "markdown",
   "metadata": {
    "collapsed": true,
    "slideshow": {
     "slide_type": "slide"
    }
   },
   "source": [
    "# Questions about machine learning\n",
    "\n",
    "    How do I choose which attributes of my data to include in the model?\n",
    "    How do I choose which model to use?\n",
    "    How do I optimize this model for best performance?\n",
    "    How do I ensure that I'm building a model that will generalize to unseen data?\n",
    "    Can I estimate how well my model is likely to perform on unseen data?\n",
    "\n"
   ]
  },
  {
   "cell_type": "markdown",
   "metadata": {
    "slideshow": {
     "slide_type": "slide"
    }
   },
   "source": [
    "# When Do We Need Machine Learning?\n",
    "\n",
    "## When do we need machine learning rather than directly program our computers to carry out the task at hand? \n",
    "\n",
    "* Two aspects of a given problem may call for the use of programs that learn and improve on the basis of their “experience”: the problem’s complexity and the need for adaptivity.\n",
    "\n",
    "### Tasks That Are Too Complex to Program.\n",
    "\n",
    "* Tasks Performed by Animals/Humans: There are numerous tasks that we human beings perform routinely, yet our introspection concerning how we do them is not sufficiently elaborate to extract a well defined program\n",
    "\n",
    "* Tasks beyond Human Capabilities: Another wide family of tasks that benefit from machine learning techniques are related to the analysis of very large and complex data sets: astronomical data, turning medical archives into medical knowledge, weather prediction, analysis of genomic data, Web search engines, and electronic commerce.\n",
    "\n",
    "* With more and more available digitally recorded data, it becomes obvious that there are treasures of meaningful information buried in data archives that are way too large and too complex for humans to make sense of.\n",
    "\n",
    "### Adaptivty\n",
    "\n"
   ]
  },
  {
   "cell_type": "markdown",
   "metadata": {
    "collapsed": true,
    "slideshow": {
     "slide_type": "slide"
    }
   },
   "source": [
    "# How does machine learning \"work\"?\n",
    "\n",
    "## High-level steps of supervised learning:\n",
    "\n",
    "  * First, train a machine learning model using labeled data\n",
    "  * \"Labeled data\" has been labeled with the outcome\n",
    "  * \"Machine learning model\" learns the relationship between the attributes of the data and its outcome\n",
    "  * Then, make predictions on new data for which the label is unknown\n",
    "\n",
    "Supervised learning"
   ]
  },
  {
   "cell_type": "code",
   "execution_count": null,
   "metadata": {
    "collapsed": true
   },
   "outputs": [],
   "source": []
  },
  {
   "cell_type": "code",
   "execution_count": null,
   "metadata": {
    "collapsed": true
   },
   "outputs": [],
   "source": []
  },
  {
   "cell_type": "code",
   "execution_count": null,
   "metadata": {
    "collapsed": true
   },
   "outputs": [],
   "source": []
  },
  {
   "cell_type": "code",
   "execution_count": null,
   "metadata": {
    "collapsed": true
   },
   "outputs": [],
   "source": []
  },
  {
   "cell_type": "markdown",
   "metadata": {
    "slideshow": {
     "slide_type": "slide"
    }
   },
   "source": []
  },
  {
   "cell_type": "markdown",
   "metadata": {
    "slideshow": {
     "slide_type": "slide"
    }
   },
   "source": [
    "# Popular Libraries for ML \n",
    "\n",
    "### Scikit-Learn \n",
    "\n",
    "### Apache Singa \n",
    "\n",
    "### Amazon Machine Learning  \n",
    "\n",
    "### Azure ML Studio\n",
    "\n",
    "### MLlib (Spark)\n",
    "\n",
    "### TensorFlow\n",
    "\n",
    "### Torch and PyTorch (machine learning algorithms that puts GPUs first\n",
    "\n",
    "### many other \n",
    "\n",
    "![](./assest/mlframe.jpg?raw=true)\n",
    "#### Source: KDnuggets\n"
   ]
  },
  {
   "cell_type": "markdown",
   "metadata": {
    "slideshow": {
     "slide_type": "slide"
    }
   },
   "source": [
    "# Setting up Python for ML: scikit-learn and IPython Notebook\n",
    "    \n",
    "### key points\n",
    "\n",
    "    Features of scikit-learn?\n",
    "    \n",
    "    How do I install scikit-learn?\n",
    "    \n",
    "    How do I use the IPython Notebook?\n",
    "    What are some good resources for learning Python?\n",
    "\n"
   ]
  },
  {
   "cell_type": "code",
   "execution_count": null,
   "metadata": {
    "collapsed": true,
    "slideshow": {
     "slide_type": "slide"
    }
   },
   "outputs": [],
   "source": [
    "\n",
    "\n"
   ]
  },
  {
   "cell_type": "markdown",
   "metadata": {
    "slideshow": {
     "slide_type": "slide"
    }
   },
   "source": [
    "# Scikit-Learn\n",
    "\n",
    "## Scikit-Learn is a Python package designed to give access to well-known machine learning algorithms within Python code, through a clean, well-thought-out API. \n",
    "\n",
    "## It has been built by hundreds of contributors from around the world, and is used across industry and academia.\n",
    "\n",
    "\n",
    "## scikit-Learn is built upon Python's NumPy (Numerical Python) and SciPy (Scientific Python) libraries, which enable efficient in-core numerical and scientific computation within Python.\n",
    "\n",
    "## scikit-learn is not specifically designed for extremely large datasets, though there is some work in this area.\n"
   ]
  },
  {
   "cell_type": "markdown",
   "metadata": {
    "collapsed": true,
    "slideshow": {
     "slide_type": "slide"
    }
   },
   "source": [
    "# Introducing Scikit-Learn\n",
    "\n",
    "### Python libraries which provide solid implementations of a range of machine learning algorithms. One of the best known is Scikit-Learn, a package that provides efficient versions of a large number of common algorithms. \n",
    "\n",
    "### Scikit-Learn is characterized by a clean, uniform, and streamlined API, as well as by very useful and complete online documentation. A benefit of this uniformity is that once you understand the basic use and syntax of Scikit-Learn for one type of model, switching to a new model or algorithm is very straightforward.\n",
    "\n",
    "### This section provides an overview of the Scikit-Learn API; a solid understanding of these API elements will form the foundation for understanding the deeper practical discussion of machine learning algorithms and approaches in the following chapters.\n",
    "\n",
    "### We will start by covering data representation in Scikit-Learn, followed by covering the Estimator API, and finally go through a more interesting example of using these tools for exploring a set of images of hand-written digits.\n",
    "\n",
    "### Data Representation in Scikit-Learn\n",
    "\n",
    "### Machine learning is about creating models from data: for that reason, we'll start by discussing how data can be represented in order to be understood by the computer. The best way to think about data within Scikit-Learn is in terms of tables of data.\n"
   ]
  },
  {
   "cell_type": "markdown",
   "metadata": {
    "collapsed": true,
    "slideshow": {
     "slide_type": "slide"
    }
   },
   "source": [
    "# Scikit-Learn's Estimator API\n",
    "\n",
    "### The Scikit-Learn API is designed with the following guiding principles in mind, as outlined in the Scikit-Learn API paper:\n",
    "\n",
    "    * Consistency: All objects share a common interface drawn from a limited set of methods, with consistent documentation.\n",
    "\n",
    "    * Inspection: All specified parameter values are exposed as public attributes.\n",
    "\n",
    "    * Limited object hierarchy: Only algorithms are represented by Python classes; datasets are represented in standard formats (NumPy arrays, Pandas DataFrames, SciPy sparse matrices) and parameter names use standard Python strings.\n",
    "\n",
    "    * Composition: Many machine learning tasks can be expressed as sequences of more fundamental algorithms, and Scikit-Learn makes use of this wherever possible.\n",
    "\n",
    "    * Sensible defaults: When models require user-specified parameters, the library defines an appropriate default value.\n",
    "\n",
    "### In practice, these principles make Scikit-Learn very easy to use, once the basic principles are understood. \n",
    "### Every machine learning algorithm in Scikit-Learn is implemented via the Estimator API, which provides a consistent interface for a wide range of machine learning applications.\n"
   ]
  },
  {
   "cell_type": "markdown",
   "metadata": {},
   "source": [
    "# Basics of the API\n",
    "\n",
    "## Most commonly, the steps in using the Scikit-Learn estimator API are as follows\n",
    "\n",
    "    Choose a class of model by importing the appropriate estimator class from Scikit-Learn\n",
    "    \n",
    "    Choose model hyperparameters by instantiating this class with desired values\n",
    "    \n",
    "    Arrange data into a features matrix and target vector following the discussion above\n",
    "    \n",
    "    Fit the model to your data by calling the fit() method of the model instance\n",
    "    \n",
    "    Apply the Model to new data:\n",
    "        For supervised learning, often we predict labels for unknown data using the predict() method.\n",
    "        For unsupervised learning, we often transform or infer properties of the data using the transform() or predict() method.\n",
    "\n",
    "## several simple examples of applying supervised and unsupervised learning methods.\n"
   ]
  },
  {
   "cell_type": "code",
   "execution_count": null,
   "metadata": {
    "collapsed": true
   },
   "outputs": [],
   "source": []
  },
  {
   "cell_type": "code",
   "execution_count": null,
   "metadata": {
    "collapsed": true
   },
   "outputs": [],
   "source": []
  },
  {
   "cell_type": "code",
   "execution_count": null,
   "metadata": {
    "collapsed": true
   },
   "outputs": [],
   "source": []
  },
  {
   "cell_type": "markdown",
   "metadata": {
    "slideshow": {
     "slide_type": "slide"
    }
   },
   "source": [
    "# ML Algorithms\n",
    "\n",
    "### Supervised \n",
    "     ### 1. Regression examples Linear and logistic regression\n",
    "     ### 2. Classification examples Support Vector machines\n",
    "     \n",
    "### Unsupervised\n",
    "     ### 1. Cluster analysis\n",
    "     ### 2. Dimensionality reduction"
   ]
  },
  {
   "cell_type": "markdown",
   "metadata": {
    "slideshow": {
     "slide_type": "slide"
    }
   },
   "source": [
    "# Basic Machine Learning Algorithms.\n",
    "\n",
    "    Linear Regression\n",
    "    Logistic Regression\n",
    "    Decision Trees\n",
    "    KNN (K- Nearest Neighbours)\n",
    "    K-Means\n",
    "    Naïve Bayes\n",
    "    Dimensionality Reduction"
   ]
  },
  {
   "cell_type": "markdown",
   "metadata": {
    "collapsed": true,
    "slideshow": {
     "slide_type": "slide"
    }
   },
   "source": [
    "# what is supervised and unsupervised learning\n",
    "\n",
    "\n",
    "#### Supervised learning: \n",
    "The task of inferring a function from labeled training data.The training data consist of a set of training examples. In supervised learning, each example is a pair consisting of an input object (typically a vector) and the desired output value (also called the supervisory signal).\n",
    "\n",
    "A supervised learning algorithm analyzes the training data and produces an inferred function, which can used for mapping new examples. An optimal scenario will allow for the algorithm to correctly determine the class labels for unseen instances. This requires the learning algorithm to generalize from the training data to unseen situations in a “reasonable” way.\n",
    "\n",
    "#### Unsupervised Learning: \n",
    "\n",
    "In data mining or even in data science world, the problem of an unsupervised learning task is trying to find hidden structure in unlabeled data. Since the examples given to the learner are unlabeled, there is no error or reward signal to evaluate a potential solution.\n",
    "\n",
    "\n"
   ]
  },
  {
   "cell_type": "markdown",
   "metadata": {
    "collapsed": true,
    "slideshow": {
     "slide_type": "slide"
    }
   },
   "source": [
    "# Supervised learning\n",
    "\n",
    "## Machine learning task of predicting an output variable \n",
    "from high-dimensional observations in order for classification \n",
    "\n",
    "### classification and regression\n",
    "\n",
    "\n",
    "![](./assest/s12up.png?raw=true)\n",
    "#### Source: http://ipython-books.github.io/featured-04/\n"
   ]
  },
  {
   "cell_type": "markdown",
   "metadata": {},
   "source": [
    "# Supervised Learning\n",
    "\n",
    "## The set of data (training data) consists of a set of input data and correct responses corresponding to every piece of data.\n",
    "\n",
    "## Based on this training data, the algorithm has to generalize such that it is able to correctly (or with a low margin of error) respond to all possible inputs.\n",
    "\n",
    "## In essence: The algorithm should produce sensible outputs for inputs that weren't encountered during training.\n",
    "\n",
    "## Also called learning from exemplars"
   ]
  },
  {
   "cell_type": "markdown",
   "metadata": {
    "slideshow": {
     "slide_type": "slide"
    }
   },
   "source": []
  },
  {
   "cell_type": "markdown",
   "metadata": {
    "slideshow": {
     "slide_type": "slide"
    }
   },
   "source": [
    "# Regression models\n",
    "\n",
    "\n",
    "### Linear Regression Model\n",
    "\n",
    "Linear regression is an attractive model because the representation is so simple.\n",
    "\n",
    "### The representation is a linear equation that combines a specific set of input values (x) the solution to which is the predicted output for that set of input values (y). As such, both the input values (x) and the output value are numeric.\n",
    "\n",
    "\n",
    "\n",
    "For example, in a simple regression problem (a single x and a single y), the form of the model would be:\n",
    "\n",
    "$$ Y = B_0 + {B_1}*X $$\n",
    "\n",
    "\n",
    "￼￼$${\\displaystyle y_{i}=\\beta _{0}1+\\beta _{1}x_{i1}+\\cdots +\\beta _{p}x_{ip}+\\varepsilon _{i}=\\mathbf {x} _{i}^{\\top }{\\boldsymbol {\\beta }}+\\varepsilon _{i},\\qquad i=1,\\ldots ,n,}$$\n",
    "\n",
    "\n",
    "\n",
    "\n"
   ]
  },
  {
   "cell_type": "markdown",
   "metadata": {
    "slideshow": {
     "slide_type": "slide"
    }
   },
   "source": [
    "# Ordinary least squares (OLS) \n",
    "is the simplest and thus most common estimator. It is conceptually simple and computationally straightforward. OLS estimates are commonly used to analyze both experimental and observational data.\n",
    "The OLS method minimizes the sum of squared residuals, and leads to a closed-form expression for the estimated value of the unknown parameter β:\n",
    "$${\\displaystyle {\\hat {\\boldsymbol {\\beta }}}=(\\mathbf {X} ^{\\top }\\mathbf {X} )^{-1}\\mathbf {X} ^{\\top }\\mathbf {y} =\\left(\\sum \\mathbf {x} _{i}\\mathbf {x} _{i}^{\\top }\\right)^{-1}\\left(\\sum \\mathbf {x} _{i}y_{i}\\right).} {\\displaystyle {\\hat {\\boldsymbol {\\beta }}}=(\\mathbf {X} ^{\\top }\\mathbf {X} )^{-1}\\mathbf {X} ^{\\top }\\mathbf {y} =\\left(\\sum \\mathbf {x} _{i}\\mathbf {x} _{i}^{\\top }\\right)^{-1}\\left(\\sum \\mathbf {x} _{i}y_{i}\\right).}$$"
   ]
  },
  {
   "cell_type": "markdown",
   "metadata": {
    "slideshow": {
     "slide_type": "slide"
    }
   },
   "source": [
    "# Linear Regression\n",
    "\n",
    "### Linear Regression Example\n",
    "\n",
    "This example uses the only the first feature of the diabetes dataset, in order to illustrate a two-dimensional plot of this regression technique. The straight line can be seen in the plot, showing how linear regression attempts to draw a straight line that will best minimize the residual sum of squares between the observed responses in the dataset, and the responses predicted by the linear approximation.\n",
    "\n",
    "The coefficients, the residual sum of squares and the variance score are also calculated."
   ]
  },
  {
   "cell_type": "code",
   "execution_count": null,
   "metadata": {
    "collapsed": true,
    "slideshow": {
     "slide_type": "slide"
    }
   },
   "outputs": [],
   "source": [
    "print(__doc__)\n",
    "\n",
    "\n",
    "# Code source: Jaques Grobler\n",
    "# License: BSD 3 clause\n",
    "\n",
    "\n",
    "import matplotlib.pyplot as plt\n",
    "import numpy as np\n",
    "from sklearn import datasets, linear_model\n",
    "from sklearn.metrics import mean_squared_error, r2_score\n",
    "\n",
    "# Load the diabetes dataset\n",
    "diabetes = datasets.load_diabetes()\n",
    "\n",
    "\n",
    "# Use only one feature\n",
    "diabetes_X = diabetes.data[:, np.newaxis, 2]\n",
    "\n",
    "# Split the data into training/testing sets\n",
    "diabetes_X_train = diabetes_X[:-20]\n",
    "diabetes_X_test = diabetes_X[-20:]\n",
    "\n",
    "# Split the targets into training/testing sets\n",
    "diabetes_y_train = diabetes.target[:-20]\n",
    "diabetes_y_test = diabetes.target[-20:]\n",
    "\n",
    "# Create linear regression object\n",
    "regr = linear_model.LinearRegression()\n",
    "\n",
    "# Train the model using the training sets\n",
    "regr.fit(diabetes_X_train, diabetes_y_train)\n",
    "\n",
    "# Make predictions using the testing set\n",
    "diabetes_y_pred = regr.predict(diabetes_X_test)\n",
    "\n",
    "# The coefficients\n",
    "print('Coefficients: \\n', regr.coef_)\n",
    "# The mean squared error\n",
    "print(\"Mean squared error: %.2f\" % mean_squared_error(diabetes_y_test, diabetes_y_pred))\n",
    "# Explained variance score: 1 is perfect prediction\n",
    "print('Variance score: %.2f' % r2_score(diabetes_y_test, diabetes_y_pred))\n",
    "\n",
    "# Plot outputs\n",
    "plt.scatter(diabetes_X_test, diabetes_y_test,  color='black')\n",
    "plt.plot(diabetes_X_test, diabetes_y_pred, color='blue', linewidth=3)\n",
    "\n",
    "plt.xticks(())\n",
    "plt.yticks(())\n",
    "\n",
    "plt.show()"
   ]
  },
  {
   "cell_type": "code",
   "execution_count": null,
   "metadata": {
    "collapsed": true,
    "slideshow": {
     "slide_type": "slide"
    }
   },
   "outputs": [],
   "source": [
    "# Linear Regression on Housing data USA\n"
   ]
  },
  {
   "cell_type": "code",
   "execution_count": null,
   "metadata": {
    "collapsed": true
   },
   "outputs": [],
   "source": []
  },
  {
   "cell_type": "markdown",
   "metadata": {
    "collapsed": true,
    "slideshow": {
     "slide_type": "slide"
    }
   },
   "source": [
    "# Logistic regression: formulation\n",
    "\n"
   ]
  },
  {
   "cell_type": "markdown",
   "metadata": {
    "collapsed": true,
    "slideshow": {
     "slide_type": "slide"
    }
   },
   "source": [
    "\n",
    "## Logistic regression is a statistical method for analyzing a dataset in which there are one or more independent variables that determine an outcome. The outcome is measured with a dichotomous variable (in which there are only two possible outcomes)\n",
    "\n",
    "In logistic regression, the dependent variable is binary or dichotomous, i.e. it only contains data coded as 1 (TRUE, success, pregnant, etc.) or 0 (FALSE, failure, non-pregnant, etc.).\n",
    "\n",
    "The goal of logistic regression is to find the best fitting (yet biologically reasonable) model to describe the relationship between the dichotomous characteristic of interest (dependent variable = response or outcome variable) and a set of independent (predictor or explanatory) variables. \n",
    "\n",
    "Logistic regression generates the coefficients (and its standard errors and significance levels) of a formula to predict a logit transformation of the probability of presence of the characteristic of interest:\n",
    "￼\n",
    "\n",
    "where p is the probability of presence of the characteristic of interest. The logit transformation is defined as the logged odds:\n",
    "￼\n",
    "\n",
    "and\n",
    "￼\n",
    "\n",
    "Rather than choosing parameters that minimize the sum of squared errors (like in ordinary regression), estimation in logistic regression chooses parameters that maximize the likelihood of observing the sample values.\n"
   ]
  },
  {
   "cell_type": "markdown",
   "metadata": {
    "slideshow": {
     "slide_type": "slide"
    }
   },
   "source": [
    "# Definition of the logistic function\n",
    "\n",
    "An explanation of logistic regression can begin with an explanation of the standard logistic function. The logistic fun￼ction is useful because it can take any real input t, $$( {\\displaystyle t\\in \\mathbb {R} }￼),$$  \n",
    "￼\n",
    "$$\\sigma (t)={\\frac {e^{t}}{e^{t}+1}}={\\frac {1}{1+e^{-t}}}$$\n",
    "\n",
    "whereas the output always takes values between zero and one and hence is interpretable as a probability. \n",
    "\n",
    "\n"
   ]
  },
  {
   "cell_type": "code",
   "execution_count": null,
   "metadata": {
    "collapsed": true
   },
   "outputs": [],
   "source": []
  },
  {
   "cell_type": "markdown",
   "metadata": {
    "slideshow": {
     "slide_type": "slide"
    }
   },
   "source": [
    "# Logistic Regression (aka logit, MaxEnt) classifier.\n",
    "\n",
    "In the multiclass case, the training algorithm uses the one-vs-rest (OvR) scheme if the ‘multi_class’ option is set to ‘ovr’, and uses the cross- entropy loss if the ‘multi_class’ option is set to ‘multinomial’. (Currently the ‘multinomial’ option is supported only by the ‘lbfgs’, ‘sag’ and ‘newton-cg’ solvers.)\n",
    "\n",
    "This class implements regularized logistic regression using the ‘liblinear’ library, ‘newton-cg’, ‘sag’ and ‘lbfgs’ solvers. It can handle both dense and sparse input. Use C-ordered arrays or CSR matrices containing 64-bit floats for optimal performance; any other input format will be converted (and copied).\n",
    "\n",
    "The ‘newton-cg’, ‘sag’, and ‘lbfgs’ solvers support only L2 regularization with primal formulation. The ‘liblinear’ solver supports both L1 and L2 regularization, with a dual formulation only for the L2 penalty."
   ]
  },
  {
   "cell_type": "code",
   "execution_count": null,
   "metadata": {
    "collapsed": true
   },
   "outputs": [],
   "source": []
  },
  {
   "cell_type": "markdown",
   "metadata": {
    "collapsed": true,
    "slideshow": {
     "slide_type": "slide"
    }
   },
   "source": [
    "# Logistic Regression 3-class Classifier\n",
    "\n",
    "Show below is a logistic-regression classifiers decision boundaries on the iris dataset. The datapoints are colored according to their labels."
   ]
  },
  {
   "cell_type": "code",
   "execution_count": null,
   "metadata": {
    "collapsed": true,
    "slideshow": {
     "slide_type": "slide"
    }
   },
   "outputs": [],
   "source": [
    "print(__doc__)\n",
    "\n",
    "\n",
    "# Code source: Gaël Varoquaux\n",
    "# Modified for documentation by Jaques Grobler\n",
    "# License: BSD 3 clause\n",
    "\n",
    "import numpy as np\n",
    "import matplotlib.pyplot as plt\n",
    "from sklearn import linear_model, datasets\n",
    "\n",
    "# import some data to play with\n",
    "iris = datasets.load_iris()\n",
    "X = iris.data[:, :2]  # we only take the first two features.\n",
    "Y = iris.target\n",
    "\n",
    "h = .02  # step size in the mesh\n",
    "\n",
    "logreg = linear_model.LogisticRegression(C=1e5)\n",
    "\n",
    "# we create an instance of Neighbours Classifier and fit the data.\n",
    "logreg.fit(X, Y)\n",
    "\n",
    "# Plot the decision boundary. For that, we will assign a color to each\n",
    "# point in the mesh [x_min, x_max]x[y_min, y_max].\n",
    "x_min, x_max = X[:, 0].min() - .5, X[:, 0].max() + .5\n",
    "y_min, y_max = X[:, 1].min() - .5, X[:, 1].max() + .5\n",
    "xx, yy = np.meshgrid(np.arange(x_min, x_max, h), np.arange(y_min, y_max, h))\n",
    "Z = logreg.predict(np.c_[xx.ravel(), yy.ravel()])\n",
    "\n",
    "# Put the result into a color plot\n",
    "Z = Z.reshape(xx.shape)\n",
    "plt.figure(1, figsize=(4, 3))\n",
    "plt.pcolormesh(xx, yy, Z, cmap=plt.cm.Paired)\n",
    "\n",
    "# Plot also the training points\n",
    "plt.scatter(X[:, 0], X[:, 1], c=Y, edgecolors='k', cmap=plt.cm.Paired)\n",
    "plt.xlabel('Sepal length')\n",
    "plt.ylabel('Sepal width')\n",
    "\n",
    "plt.xlim(xx.min(), xx.max())\n",
    "plt.ylim(yy.min(), yy.max())\n",
    "plt.xticks(())\n",
    "plt.yticks(())"
   ]
  },
  {
   "cell_type": "code",
   "execution_count": null,
   "metadata": {
    "collapsed": true,
    "slideshow": {
     "slide_type": "slide"
    }
   },
   "outputs": [],
   "source": []
  },
  {
   "cell_type": "code",
   "execution_count": null,
   "metadata": {
    "collapsed": true
   },
   "outputs": [],
   "source": []
  },
  {
   "cell_type": "code",
   "execution_count": null,
   "metadata": {
    "collapsed": true
   },
   "outputs": [],
   "source": []
  },
  {
   "cell_type": "markdown",
   "metadata": {
    "collapsed": true,
    "slideshow": {
     "slide_type": "slide"
    }
   },
   "source": [
    "# Supervised learning: Classification\n",
    "    \n",
    "### Support Vector machines\n",
    "\n",
    "### Random forests\n",
    "\n",
    "### Naive Bayes Classification "
   ]
  },
  {
   "cell_type": "code",
   "execution_count": null,
   "metadata": {
    "collapsed": true
   },
   "outputs": [],
   "source": [
    "# Application of Classification Algorithms\n",
    "\n",
    "### Email spam classification\n",
    "### Bank customers loan pay bank willingness prediction.\n",
    "### Cancer tumour cells identification.\n",
    "### Sentiment analysis.\n",
    "### Drugs classification\n",
    "### Facial key points detection\n",
    "### Pedestrians detection in an automotive car driving."
   ]
  },
  {
   "cell_type": "markdown",
   "metadata": {
    "collapsed": true,
    "slideshow": {
     "slide_type": "slide"
    }
   },
   "source": [
    "# Support vector machines\n",
    "\n",
    "* SVM is related to statistical learning theory\n",
    "\n",
    "* SVM was first introduced in 1992 \n",
    "\n",
    "* SVM becomes popular because of its success in handwritten digit recognition\n",
    "\n",
    "* SVM is now regarded as an important example of “kernel methods”, one of the key area in machine learning\n",
    "\n",
    "* Note: the meaning of “kernel” is different from the “kernel” function for Parzen windows\n"
   ]
  },
  {
   "cell_type": "markdown",
   "metadata": {
    "slideshow": {
     "slide_type": "slide"
    }
   },
   "source": [
    "# SVM for classification\n",
    "\n",
    "#### Support Vector Machine (SVM) is a supervised machine learning algorithm which can be used for both classification or regression challenges. \n",
    "#### However,  it is mostly used in classification problems. In this algorithm, we plot each data item as a point in n-dimensional space (where n is number of features you have) with the value of each feature being the value of a particular coordinate. "
   ]
  },
  {
   "cell_type": "markdown",
   "metadata": {},
   "source": [
    "# SVM: Mathematical Setup\n",
    "\n",
    "# A SVM constructs a hyperplane (or set of hyperplanes) in a high or infinite dimensional space, which can be used for classification, regression or other tasks\n",
    "\n",
    "![](./assest/svmplot.jpg?raw=true)\n",
    "#### Source: Digg Data"
   ]
  },
  {
   "cell_type": "markdown",
   "metadata": {
    "slideshow": {
     "slide_type": "slide"
    }
   },
   "source": [
    "# Why SVM work ?\n",
    "\n",
    "Pros and Cons associated with SVM\n",
    "\n",
    "    Pros:\n",
    "        It works really well with clear margin of separation\n",
    "        It is effective in high dimensional spaces.\n",
    "        It is effective in cases where number of dimensions is greater than the number of samples.\n",
    "        It uses a subset of training points in the decision function (called support vectors), so it is also memory efficient.\n",
    "    Cons:\n",
    "        It doesn’t perform well, when we have large data set because the required training time is higher\n",
    "        It also doesn’t perform very well, when the data set has more noise i.e. target classes are overlapping\n",
    "        SVM doesn’t directly provide probability estimates, these are calculated using an expensive five-fold cross-validation. It is related SVC method of Python scikit-learn library.\n"
   ]
  },
  {
   "cell_type": "markdown",
   "metadata": {
    "slideshow": {
     "slide_type": "slide"
    }
   },
   "source": [
    "# Mathematical formulation\n",
    "\n",
    "### A support vector machine constructs a hyper-plane or set of hyper-planes in a high or infinite dimensional space, which can be used for classification, regression or other tasks. \n",
    "\n",
    "### Intuitively, a good separation is achieved by the hyper-plane that has the largest distance to the nearest training data points of any class (so-called functional margin), since in general the larger the margin the lower the generalization error of the classifier.\n",
    "\n",
    "\n",
    "\n",
    "Given training vectors $$ x_i \\in \\mathbb{R}^p, i=1,…, n, $$ in two classes, and a vector $$ y \\in \\{1, -1\\}^n,$$ SVC solves the following primal problem:\n",
    "\n",
    "$$\\min_ {w, b, \\zeta} \\frac{1}{2} w^T w + C \\sum_{i=1}^{n} \\zeta_i $$\n",
    "\n",
    "$$ y_i (w^T \\phi (x_i) + b) \\geq 1 - \\zeta_i, $$\n",
    "$$ \\zeta_i \\geq 0 , i=1, ..., n $$\n",
    "\n",
    "\n",
    "\n",
    "Its dual is\n",
    "\n",
    "$$ \\min_{\\alpha} \\frac{1}{2} \\alpha^T Q \\alpha - e^T \\alpha $$\n",
    " \n",
    " $$ y^T \\alpha = 0\\\\ $$ \n",
    " \n",
    " $$ 0 \\leq \\alpha_i \\leq C, i=1, ..., n $$\n",
    "\n",
    "where e is the vector of all ones, C > 0 is the upper bound, Q is an n by n positive semidefinite matrix, Q_{ij} \\equiv y_i y_j K(x_i, x_j), where $$K(x_i, x_j) = \\phi (x_i)^T \\phi (x_j)$$ is the kernel. Here training vectors are implicitly mapped into a higher (maybe infinite) dimensional space by the function \\phi.\n",
    "\n",
    "The decision function is:\n",
    "\n",
    "$$ \\operatorname{sgn}(\\sum_{i=1}^n y_i \\alpha_i K(x_i, x) + \\rho) $$\n",
    "\n",
    "\n",
    "\n",
    "\n"
   ]
  },
  {
   "cell_type": "code",
   "execution_count": 1,
   "metadata": {
    "collapsed": true,
    "slideshow": {
     "slide_type": "slide"
    }
   },
   "outputs": [],
   "source": [
    "# SVM example \n",
    "# Support Vector Machine practice notebook with breast cancer data set\n",
    "# Import libraries and load data\n",
    "\n",
    "import pandas as pd\n",
    "\n",
    "import numpy as np\n",
    "\n",
    "import matplotlib.pyplot as plt\n",
    "\n",
    "import seaborn as sns\n",
    "\n",
    "\n",
    "# Get the Data\n",
    "\n"
   ]
  },
  {
   "cell_type": "code",
   "execution_count": null,
   "metadata": {
    "collapsed": true
   },
   "outputs": [],
   "source": [
    "print(__doc__)\n",
    "\n",
    "# Author: Gael Varoquaux <gael dot varoquaux at normalesup dot org>\n",
    "# License: BSD 3 clause\n",
    "\n",
    "# Standard scientific Python imports\n",
    "import matplotlib.pyplot as plt\n",
    "\n",
    "# Import datasets, classifiers and performance metrics\n",
    "from sklearn import datasets, svm, metrics\n",
    "\n",
    "# The digits dataset\n",
    "digits = datasets.load_digits()\n",
    "\n",
    "# The data that we are interested in is made of 8x8 images of digits, let's\n",
    "# have a look at the first 4 images, stored in the `images` attribute of the\n",
    "# dataset.  If we were working from image files, we could load them using\n",
    "# matplotlib.pyplot.imread.  Note that each image must have the same size. For these\n",
    "# images, we know which digit they represent: it is given in the 'target' of\n",
    "# the dataset.\n",
    "images_and_labels = list(zip(digits.images, digits.target))\n",
    "for index, (image, label) in enumerate(images_and_labels[:4]):\n",
    "    plt.subplot(2, 4, index + 1)\n",
    "    plt.axis('off')\n",
    "    plt.imshow(image, cmap=plt.cm.gray_r, interpolation='nearest')\n",
    "    plt.title('Training: %i' % label)\n",
    "\n",
    "# To apply a classifier on this data, we need to flatten the image, to\n",
    "# turn the data in a (samples, feature) matrix:\n",
    "n_samples = len(digits.images)\n",
    "data = digits.images.reshape((n_samples, -1))\n",
    "\n",
    "# Create a classifier: a support vector classifier\n",
    "classifier = svm.SVC(gamma=0.001)\n",
    "\n",
    "# We learn the digits on the first half of the digits\n",
    "classifier.fit(data[:n_samples // 2], digits.target[:n_samples // 2])\n",
    "\n",
    "# Now predict the value of the digit on the second half:\n",
    "expected = digits.target[n_samples // 2:]\n",
    "predicted = classifier.predict(data[n_samples // 2:])\n",
    "\n",
    "print(\"Classification report for classifier %s:\\n%s\\n\"\n",
    "      % (classifier, metrics.classification_report(expected, predicted)))\n",
    "print(\"Confusion matrix:\\n%s\" % metrics.confusion_matrix(expected, predicted))\n",
    "\n",
    "images_and_predictions = list(zip(digits.images[n_samples // 2:], predicted))\n",
    "for index, (image, prediction) in enumerate(images_and_predictions[:4]):\n",
    "    plt.subplot(2, 4, index + 5)\n",
    "    plt.axis('off')\n",
    "    plt.imshow(image, cmap=plt.cm.gray_r, interpolation='nearest')\n",
    "    plt.title('Prediction: %i' % prediction)\n",
    "\n",
    "plt.show()"
   ]
  },
  {
   "cell_type": "code",
   "execution_count": null,
   "metadata": {
    "collapsed": true
   },
   "outputs": [],
   "source": [
    "# Cross-validation on Digits Dataset Exercise\n",
    "\n",
    "print(__doc__)\n",
    "\n",
    "\n",
    "import numpy as np\n",
    "from sklearn.model_selection import cross_val_score\n",
    "from sklearn import datasets, svm\n",
    "\n",
    "digits = datasets.load_digits()\n",
    "X = digits.data\n",
    "y = digits.target\n",
    "\n",
    "svc = svm.SVC(kernel='linear')\n",
    "C_s = np.logspace(-10, 0, 10)\n",
    "\n",
    "scores = list()\n",
    "scores_std = list()\n",
    "for C in C_s:\n",
    "    svc.C = C\n",
    "    this_scores = cross_val_score(svc, X, y, n_jobs=1)\n",
    "    scores.append(np.mean(this_scores))\n",
    "    scores_std.append(np.std(this_scores))\n",
    "\n",
    "# Do the plotting\n",
    "import matplotlib.pyplot as plt\n",
    "plt.figure(1, figsize=(4, 3))\n",
    "plt.clf()\n",
    "plt.semilogx(C_s, scores)\n",
    "plt.semilogx(C_s, np.array(scores) + np.array(scores_std), 'b--')\n",
    "plt.semilogx(C_s, np.array(scores) - np.array(scores_std), 'b--')\n",
    "locs, labels = plt.yticks()\n",
    "plt.yticks(locs, list(map(lambda x: \"%g\" % x, locs)))\n",
    "plt.ylabel('CV score')\n",
    "plt.xlabel('Parameter C')\n",
    "plt.ylim(0, 1.1)\n",
    "plt.show()"
   ]
  },
  {
   "cell_type": "code",
   "execution_count": null,
   "metadata": {
    "collapsed": true
   },
   "outputs": [],
   "source": [
    "# Kernel Trick\n",
    "\n"
   ]
  },
  {
   "cell_type": "code",
   "execution_count": null,
   "metadata": {
    "collapsed": true
   },
   "outputs": [],
   "source": []
  },
  {
   "cell_type": "markdown",
   "metadata": {
    "slideshow": {
     "slide_type": "slide"
    }
   },
   "source": [
    "# K-Nearest Neighbhours\n",
    "\n",
    "What is KNN?\n",
    "\n",
    "\n",
    "x to denote a feature (aka. predictor, attribute) and y to denote the target (aka. label, class) we are trying to predict.\n",
    "\n",
    "Informally, this means that we are given a labelled dataset consiting of training observations (x,y)(x,y) and would like to capture the relationship between xx and yy. More formally, our goal is to learn a function h:X→Y, so that given an unseen observation xx, h(x)h(x) can confidently predict the corresponding output yy.\n",
    "\n",
    "The KNN classifier is also a non parametric and instance-based learning algorithm.\n",
    "\n",
    "Non-parametric means it makes no explicit assumptions about the functional form of h, avoiding the dangers of mismodeling the underlying distribution of the data. For example, suppose our data is highly non-Gaussian but the learning model we choose assumes a Gaussian form. In that case, our algorithm would make extremely poor predictions.\n",
    "\n",
    "Instance-based learning means that our algorithm doesn’t explicitly learn a model. \n",
    "\n",
    "Instead, it chooses to memorize the training instances which are subsequently used as “knowledge” for the prediction phase. Concretely, this means that only when a query to our database is made (i.e. when we ask it to predict a label given an input), will the algorithm use the training instances to spit out an answer.\n"
   ]
  },
  {
   "cell_type": "code",
   "execution_count": null,
   "metadata": {
    "collapsed": true
   },
   "outputs": [],
   "source": [
    "# Mathematical formulation\n",
    "\n"
   ]
  },
  {
   "cell_type": "code",
   "execution_count": null,
   "metadata": {
    "collapsed": true
   },
   "outputs": [],
   "source": [
    "# k-Nearest Neighbors Classification\n",
    "\n",
    "print(__doc__)\n",
    "\n",
    "import numpy as np\n",
    "import matplotlib.pyplot as plt\n",
    "from matplotlib.colors import ListedColormap\n",
    "from sklearn import neighbors, datasets\n",
    "\n",
    "n_neighbors = 15\n",
    "\n",
    "# import some data to play with\n",
    "iris = datasets.load_iris()\n",
    "\n",
    "# we only take the first two features. We could avoid this ugly\n",
    "# slicing by using a two-dim dataset\n",
    "X = iris.data[:, :2]\n",
    "y = iris.target\n",
    "\n",
    "h = .02  # step size in the mesh\n",
    "\n",
    "# Create color maps\n",
    "cmap_light = ListedColormap(['#FFAAAA', '#AAFFAA', '#AAAAFF'])\n",
    "cmap_bold = ListedColormap(['#FF0000', '#00FF00', '#0000FF'])\n",
    "\n",
    "for weights in ['uniform', 'distance']:\n",
    "    # we create an instance of Neighbours Classifier and fit the data.\n",
    "    clf = neighbors.KNeighborsClassifier(n_neighbors, weights=weights)\n",
    "    clf.fit(X, y)\n",
    "\n",
    "    # Plot the decision boundary. For that, we will assign a color to each\n",
    "    # point in the mesh [x_min, x_max]x[y_min, y_max].\n",
    "    x_min, x_max = X[:, 0].min() - 1, X[:, 0].max() + 1\n",
    "    y_min, y_max = X[:, 1].min() - 1, X[:, 1].max() + 1\n",
    "    xx, yy = np.meshgrid(np.arange(x_min, x_max, h),\n",
    "                         np.arange(y_min, y_max, h))\n",
    "    Z = clf.predict(np.c_[xx.ravel(), yy.ravel()])\n",
    "\n",
    "    # Put the result into a color plot\n",
    "    Z = Z.reshape(xx.shape)\n",
    "    plt.figure()\n",
    "    plt.pcolormesh(xx, yy, Z, cmap=cmap_light)\n",
    "\n",
    "    # Plot also the training points\n",
    "    plt.scatter(X[:, 0], X[:, 1], c=y, cmap=cmap_bold,\n",
    "                edgecolor='k', s=20)\n",
    "    plt.xlim(xx.min(), xx.max())\n",
    "    plt.ylim(yy.min(), yy.max())\n",
    "    plt.title(\"3-Class classification (k = %i, weights = '%s')\"\n",
    "              % (n_neighbors, weights))\n",
    "\n",
    "plt.show()"
   ]
  },
  {
   "cell_type": "code",
   "execution_count": null,
   "metadata": {
    "collapsed": true
   },
   "outputs": [],
   "source": []
  },
  {
   "cell_type": "markdown",
   "metadata": {
    "collapsed": true
   },
   "source": [
    "# Pros and Cons of K-NN approach\n",
    "\n",
    "## Pros\n",
    "\n",
    "### As you can already tell from the previous section, one of the most attractive features of the K-nearest neighbor algorithm is that is simple to understand and easy to implement. \n",
    "\n",
    "### With zero to little training time, it can be a useful tool for off-the-bat analysis of some data set you are planning to run more complex algorithms on. \n",
    "\n",
    "### Furthermore, KNN works just as easily with multiclass data sets whereas other algorithms are hardcoded for the binary setting. Finally, as we mentioned earlier, the non-parametric nature of KNN gives it an edge in certain settings where the data may be highly “unusual”.\n",
    "\n",
    "## Cons\n",
    "\n",
    "### One of the obvious drawbacks of the KNN algorithm is the computationally expensive testing phase which is impractical in industry settings. \n",
    "\n",
    "### Note the rigid dichotomy between KNN and the more sophisticated Neural Network which has a lengthy training phase albeit a very fast testing phase. Furthermore, KNN can suffer from skewed class distributions. For example, if a certain class is very frequent in the training set, it will tend to dominate the majority voting of the new example (large number = more common). \n",
    "\n",
    "### Finally, the accuracy of KNN can be severely degraded with high-dimension data because there is little difference between the nearest and farthest neighbor.\n",
    "\n"
   ]
  },
  {
   "cell_type": "code",
   "execution_count": null,
   "metadata": {
    "collapsed": true
   },
   "outputs": [],
   "source": []
  },
  {
   "cell_type": "code",
   "execution_count": null,
   "metadata": {
    "collapsed": true
   },
   "outputs": [],
   "source": []
  },
  {
   "cell_type": "markdown",
   "metadata": {},
   "source": [
    "# Decision Tree Learning\n",
    "\n",
    "### For general use, decision trees are employed to visually represent decisions and show or inform decision making. When working with machine learning and data mining, decision trees are used as a predictive model. These models map observations about data to conclusions about the data’s target value.\n",
    "\n",
    "### The goal of decision tree learning is to create a model that will predict the value of a target based on input variables.\n",
    "\n",
    "\n",
    "\n"
   ]
  },
  {
   "cell_type": "markdown",
   "metadata": {},
   "source": [
    "# "
   ]
  },
  {
   "cell_type": "markdown",
   "metadata": {
    "collapsed": true
   },
   "source": []
  },
  {
   "cell_type": "markdown",
   "metadata": {},
   "source": []
  },
  {
   "cell_type": "markdown",
   "metadata": {},
   "source": [
    "# Supervised Learning Algorithms\n",
    "\n",
    "All classification and regression algorithms come under supervised learning.\n",
    "\n",
    "* Logistic Regression\n",
    "* Decision trees\n",
    "* Support vector machine (SVM)\n",
    "* k-Nearest Neighbors\n",
    "* Naive Bayes\n",
    "* Random forest\n",
    "* Linear regression\n",
    "* Polynomial regression\n"
   ]
  },
  {
   "cell_type": "markdown",
   "metadata": {},
   "source": [
    "# Classification algorithms\n",
    "\n",
    "#### Linear classifiers\n",
    "\n",
    "#### Support vector machines (SVMs)\n",
    "\n",
    "#### k-Nearest Neighbour\n",
    "\n",
    "#### Logistic regression\n",
    "\n",
    "#### Naive Bayes classifiers\n",
    "\n",
    "#### Fisher’s linear discriminant\n",
    "\n",
    "#### Quadratic classifiers\n",
    "\n",
    "#### Kernel estimation\n",
    "\n",
    "#### k-nearest neighbor\n",
    "\n",
    "#### Decision trees\n",
    "\n",
    "#### Random forests\n",
    "\n",
    "#### Learning vector quantization\n"
   ]
  },
  {
   "cell_type": "markdown",
   "metadata": {},
   "source": []
  },
  {
   "cell_type": "markdown",
   "metadata": {
    "slideshow": {
     "slide_type": "slide"
    }
   },
   "source": [
    "# Unsupervised learning:\n",
    "\n",
    "## Task of inferring a function to describe hidden structure from \"unlabeled\" data \n",
    "\n",
    "### Clustering\n"
   ]
  },
  {
   "cell_type": "markdown",
   "metadata": {
    "slideshow": {
     "slide_type": "slide"
    }
   },
   "source": [
    "# Unsupervised Learning\n",
    "\n",
    "### 1. Gaussian mixture models\n",
    "\n",
    "### 2. Manifold learning\n",
    "\n",
    "### 3. Covariance estimation\n",
    "\n",
    "### 4. Novelty and Outlier Detection\n",
    "\n",
    "\n"
   ]
  },
  {
   "cell_type": "markdown",
   "metadata": {
    "slideshow": {
     "slide_type": "slide"
    }
   },
   "source": [
    "# Unsupervised Learning:\n",
    "\n",
    "All clustering algorithms come under unsupervised learning algorithms.\n",
    "\n",
    "* K-means clustering\n",
    "* Hierarchical clustering\n",
    "* Hidden Markov models"
   ]
  },
  {
   "cell_type": "markdown",
   "metadata": {
    "collapsed": true,
    "slideshow": {
     "slide_type": "slide"
    }
   },
   "source": [
    "# Unsupervised Learning: Cluster Analysis\n",
    "\n",
    "### Clustering: The assignment of a set of observations into subsets (called clusters) so that observations in the same cluster are similar in some sense. Clustering is a method of unsupervised learning, and a common technique for statistical data analysis used in many fields.\n",
    "\n",
    "### K-means Clustering\n",
    "\n",
    "### Other Clustering algorithms:\n",
    "\n",
    "       ### Exclusive Clustering\n",
    "       ### Overlapping Clustering\n",
    "       ### Hierarchical Clustering\n",
    "       ### Probabilistic Clustering\n",
    "\n"
   ]
  },
  {
   "cell_type": "markdown",
   "metadata": {
    "slideshow": {
     "slide_type": "slide"
    }
   },
   "source": [
    "# Understanding of Clustering\n",
    "\n",
    "Typical cluster models include:\n",
    "\n",
    "    Connectivity models: for example, hierarchical clustering builds models based on distance connectivity.\n",
    "    \n",
    "    Centroid models: for example, the k-means algorithm represents each cluster by a single mean vector.\n",
    "    \n",
    "    Distribution models: clusters are modeled using statistical distributions, such as multivariate normal distributions used by the expectation-maximization algorithm.\n",
    "    Density models: for example, DBSCAN and OPTICS defines clusters as connected dense regions in the data space.\n",
    "    Subspace models: in biclustering (also known as co-clustering or two-mode-clustering), clusters are modeled with both cluster members and relevant attributes.\n",
    "    Group models: some algorithms do not provide a refined model for their results and just provide the grouping information.\n",
    "    Graph-based models: a clique, that is, a subset of nodes in a graph such that every two nodes in the subset are connected by an edge can be considered as a prototypical form of cluster. Relaxations of the complete connectivity requirement (a fraction of the edges can be missing) are known as quasi-cliques, as in the HCS clustering algorithm.\n",
    "    Neural models: the most well known unsupervised neural network is the self-organizing map and these models can usually be characterized as similar to one or more of the above models, and including subspace models when neural networks implement a form of Principal Component Analysis or Independent Component Analysis.\n"
   ]
  },
  {
   "cell_type": "markdown",
   "metadata": {
    "slideshow": {
     "slide_type": "slide"
    }
   },
   "source": [
    "# Goal of Clustering\n",
    "\n",
    "## The goal of clustering is to determine the intrinsic grouping in a set of unlabeled data.\n",
    "\n",
    "But how does one decide what constitutes a good clustering?\n",
    "\n",
    "It can be shown that there is no absolute “best” criterion which would\n",
    "be independent of the final aim of the clustering. Consequently, it is\n",
    "the user which must supply this criterion, in such a way that the result\n",
    "of the clustering will suit their needs\n",
    "\n",
    "Unsupervised learning is often used to preprocess the data. Usually, that means compressing it in some meaning-preserving way like with PCA or SVD before feeding it to a deep neural net or another supervised learning algorithm."
   ]
  },
  {
   "cell_type": "code",
   "execution_count": null,
   "metadata": {
    "collapsed": true
   },
   "outputs": [],
   "source": []
  },
  {
   "cell_type": "markdown",
   "metadata": {
    "slideshow": {
     "slide_type": "slide"
    }
   },
   "source": [
    "# Mathematical understanding of K-means algorithm \n",
    "\n",
    "#### An important component of a clustering algorithm is the distance measure between data points. If the components of the data instance vectors are all in the same physical units then it is possible that the simple Euclidean distance metric is sufficient to successfully group similar data instances. \n",
    "\n",
    "\n",
    "$$\\sum_{i=0}^{n}\\min_{\\mu_j \\in C}(||x_j - \\mu_i||^2)$$\n",
    "\n",
    "#### Inertia, or the within-cluster sum of squares criterion, can be recognized as a measure of how internally coherent clusters are. It suffers from various drawbacks:\n",
    "\n",
    "    Inertia makes the assumption that clusters are convex and isotropic, which is not always the case. It responds poorly to elongated clusters, or manifolds with irregular shapes.\n",
    "    Inertia is not a normalized metric: we just know that lower values are better and zero is optimal. But in very high-dimensional spaces, Euclidean distances tend to become inflated (this is an instance of the so-called “curse of dimensionality”). Running a dimensionality reduction algorithm such as PCA prior to k-means clustering can alleviate this problem and speed up the computations.\n",
    "\n"
   ]
  },
  {
   "cell_type": "markdown",
   "metadata": {
    "slideshow": {
     "slide_type": "slide"
    }
   },
   "source": [
    "# K-Means algorithm\n",
    "\n",
    "K-means is often referred to as Lloyd’s algorithm. In basic terms, the algorithm has three steps. The first step chooses the initial centroids, with the most basic method being to choose k samples from the dataset X. After initialization, K-means consists of looping between the two other steps. The first step assigns each sample to its nearest centroid. The second step creates new centroids by taking the mean value of all of the samples assigned to each previous centroid. The difference between the old and the new centroids are computed and the algorithm repeats these last two steps until this value is less than a threshold. In other words, it repeats until the centroids do not move significantly.\n",
    "../_images/sphx_glr_plot_kmeans_digits_0011.png\n",
    "\n",
    "K-means is equivalent to the expectation-maximization algorithm with a small, all-equal, diagonal covariance matrix.\n",
    "\n",
    "The algorithm can also be understood through the concept of Voronoi diagrams. First the Voronoi diagram of the points is calculated using the current centroids. Each segment in the Voronoi diagram becomes a separate cluster. Secondly, the centroids are updated to the mean of each segment. The algorithm then repeats this until a stopping criterion is fulfilled. Usually, the algorithm stops when the relative decrease in the objective function between iterations is less than the given tolerance value. This is not the case in this implementation: iteration stops when centroids move less than the tolerance."
   ]
  },
  {
   "cell_type": "markdown",
   "metadata": {
    "slideshow": {
     "slide_type": "slide"
    }
   },
   "source": [
    "# Other approaches\n",
    "\n",
    "### Hierarchical clustering and Fuzzy C-means clustering\n"
   ]
  },
  {
   "cell_type": "code",
   "execution_count": 2,
   "metadata": {},
   "outputs": [
    {
     "name": "stdout",
     "output_type": "stream",
     "text": [
      "Automatically created module for IPython interactive environment\n",
      "n_digits: 10, \t n_samples 1797, \t n_features 64\n",
      "__________________________________________________________________________________\n",
      "init\t\ttime\tinertia\thomo\tcompl\tv-meas\tARI\tAMI\tsilhouette\n",
      "k-means++\t1.41s\t69432\t0.602\t0.650\t0.625\t0.465\t0.598\t0.146\n",
      "random   \t0.35s\t69694\t0.669\t0.710\t0.689\t0.553\t0.666\t0.147\n",
      "PCA-based\t0.05s\t70804\t0.671\t0.698\t0.684\t0.561\t0.668\t0.118\n",
      "__________________________________________________________________________________\n"
     ]
    },
    {
     "data": {
      "image/png": "[encoded data removed]",
      "text/plain": [
       "<matplotlib.figure.Figure at 0x7faac4f85fd0>"
      ]
     },
     "metadata": {},
     "output_type": "display_data"
    }
   ],
   "source": [
    "# Clustering example from scikit learn\n",
    "# A demo of K-Means clustering on the handwritten digits data\n",
    "\n",
    "\n",
    "print(__doc__)\n",
    "\n",
    "from time import time\n",
    "import numpy as np\n",
    "import matplotlib.pyplot as plt\n",
    "\n",
    "from sklearn import metrics\n",
    "from sklearn.cluster import KMeans\n",
    "from sklearn.datasets import load_digits\n",
    "from sklearn.decomposition import PCA\n",
    "from sklearn.preprocessing import scale\n",
    "\n",
    "np.random.seed(42)\n",
    "\n",
    "digits = load_digits()\n",
    "data = scale(digits.data)\n",
    "\n",
    "n_samples, n_features = data.shape\n",
    "n_digits = len(np.unique(digits.target))\n",
    "labels = digits.target\n",
    "\n",
    "sample_size = 300\n",
    "\n",
    "print(\"n_digits: %d, \\t n_samples %d, \\t n_features %d\"\n",
    "      % (n_digits, n_samples, n_features))\n",
    "\n",
    "\n",
    "print(82 * '_')\n",
    "print('init\\t\\ttime\\tinertia\\thomo\\tcompl\\tv-meas\\tARI\\tAMI\\tsilhouette')\n",
    "\n",
    "\n",
    "def bench_k_means(estimator, name, data):\n",
    "    t0 = time()\n",
    "    estimator.fit(data)\n",
    "    print('%-9s\\t%.2fs\\t%i\\t%.3f\\t%.3f\\t%.3f\\t%.3f\\t%.3f\\t%.3f'\n",
    "          % (name, (time() - t0), estimator.inertia_,\n",
    "             metrics.homogeneity_score(labels, estimator.labels_),\n",
    "             metrics.completeness_score(labels, estimator.labels_),\n",
    "             metrics.v_measure_score(labels, estimator.labels_),\n",
    "             metrics.adjusted_rand_score(labels, estimator.labels_),\n",
    "             metrics.adjusted_mutual_info_score(labels,  estimator.labels_),\n",
    "             metrics.silhouette_score(data, estimator.labels_,\n",
    "                                      metric='euclidean',\n",
    "                                      sample_size=sample_size)))\n",
    "\n",
    "bench_k_means(KMeans(init='k-means++', n_clusters=n_digits, n_init=10),\n",
    "              name=\"k-means++\", data=data)\n",
    "\n",
    "bench_k_means(KMeans(init='random', n_clusters=n_digits, n_init=10),\n",
    "              name=\"random\", data=data)\n",
    "\n",
    "# in this case the seeding of the centers is deterministic, hence we run the\n",
    "# kmeans algorithm only once with n_init=1\n",
    "pca = PCA(n_components=n_digits).fit(data)\n",
    "bench_k_means(KMeans(init=pca.components_, n_clusters=n_digits, n_init=1),\n",
    "              name=\"PCA-based\",\n",
    "              data=data)\n",
    "print(82 * '_')\n",
    "\n",
    "# #############################################################################\n",
    "# Visualize the results on PCA-reduced data\n",
    "\n",
    "reduced_data = PCA(n_components=2).fit_transform(data)\n",
    "kmeans = KMeans(init='k-means++', n_clusters=n_digits, n_init=10)\n",
    "kmeans.fit(reduced_data)\n",
    "\n",
    "# Step size of the mesh. Decrease to increase the quality of the VQ.\n",
    "h = .02     # point in the mesh [x_min, x_max]x[y_min, y_max].\n",
    "\n",
    "# Plot the decision boundary. For that, we will assign a color to each\n",
    "x_min, x_max = reduced_data[:, 0].min() - 1, reduced_data[:, 0].max() + 1\n",
    "y_min, y_max = reduced_data[:, 1].min() - 1, reduced_data[:, 1].max() + 1\n",
    "xx, yy = np.meshgrid(np.arange(x_min, x_max, h), np.arange(y_min, y_max, h))\n",
    "\n",
    "# Obtain labels for each point in mesh. Use last trained model.\n",
    "Z = kmeans.predict(np.c_[xx.ravel(), yy.ravel()])\n",
    "\n",
    "# Put the result into a color plot\n",
    "Z = Z.reshape(xx.shape)\n",
    "plt.figure(1)\n",
    "plt.clf()\n",
    "plt.imshow(Z, interpolation='nearest',\n",
    "           extent=(xx.min(), xx.max(), yy.min(), yy.max()),\n",
    "           cmap=plt.cm.Paired,\n",
    "           aspect='auto', origin='lower')\n",
    "\n",
    "plt.plot(reduced_data[:, 0], reduced_data[:, 1], 'k.', markersize=2)\n",
    "# Plot the centroids as a white X\n",
    "centroids = kmeans.cluster_centers_\n",
    "plt.scatter(centroids[:, 0], centroids[:, 1],\n",
    "            marker='x', s=169, linewidths=3,\n",
    "            color='w', zorder=10)\n",
    "plt.title('K-means clustering on the digits dataset (PCA-reduced data)\\n'\n",
    "          'Centroids are marked with white cross')\n",
    "plt.xlim(x_min, x_max)\n",
    "plt.ylim(y_min, y_max)\n",
    "plt.xticks(())\n",
    "plt.yticks(())\n",
    "plt.show()"
   ]
  },
  {
   "cell_type": "markdown",
   "metadata": {
    "collapsed": true,
    "slideshow": {
     "slide_type": "slide"
    }
   },
   "source": [
    "# Application of Clustering Algorithms\n",
    "\n",
    "* Recommender systems\n",
    "\n",
    "* Anomaly detection\n",
    "\n",
    "* Human genetic clustering and Genome Sequence analysis\n",
    "\n",
    "* Analysis of antimicrobial activity\n",
    "\n",
    "* Grouping of shopping items\n",
    "\n",
    "Search result grouping\n",
    "\n",
    "Slippy map optimization\n",
    "\n",
    "Crime analysis\n",
    "\n",
    "Climatology"
   ]
  },
  {
   "cell_type": "code",
   "execution_count": null,
   "metadata": {
    "collapsed": true
   },
   "outputs": [],
   "source": [
    "\n",
    "\n"
   ]
  },
  {
   "cell_type": "markdown",
   "metadata": {
    "slideshow": {
     "slide_type": "slide"
    }
   },
   "source": [
    "# ML at a scale\n",
    "\n",
    "### Sharding of data and the empirical distributions of estimators"
   ]
  },
  {
   "cell_type": "markdown",
   "metadata": {},
   "source": []
  },
  {
   "cell_type": "markdown",
   "metadata": {
    "slideshow": {
     "slide_type": "slide"
    }
   },
   "source": [
    "\n",
    "\n",
    "\n"
   ]
  },
  {
   "cell_type": "markdown",
   "metadata": {},
   "source": [
    "# Random forests or random decision forests are an ensemble learning method for classification, regression and other tasks"
   ]
  },
  {
   "cell_type": "markdown",
   "metadata": {},
   "source": [
    "Random forests or random decision forests[1][2] are an ensemble learning method for classification, regression and other tasks, that operate by constructing a multitude of decision trees at training time and outputting the class that is the mode of the classes (classification) or mean prediction (regression) of the individual trees. Random decision forests correct for decision trees' habit of overfitting to their training set"
   ]
  },
  {
   "cell_type": "code",
   "execution_count": null,
   "metadata": {
    "collapsed": true
   },
   "outputs": [],
   "source": []
  },
  {
   "cell_type": "markdown",
   "metadata": {
    "collapsed": true
   },
   "source": [
    "#  Probabilistic classifiers\n",
    "\n",
    "###  A probability distribution over a set of classes, rather than only outputting the most likely class that the observation"
   ]
  },
  {
   "cell_type": "code",
   "execution_count": null,
   "metadata": {
    "collapsed": true
   },
   "outputs": [],
   "source": [
    "# Problem solving using Machine learning\n",
    "\n",
    "### Classification problem\n",
    "### Anomaly detection\n",
    "### Regression \n",
    "### Clustering\n",
    "### Reinforcement learning"
   ]
  },
  {
   "cell_type": "code",
   "execution_count": null,
   "metadata": {
    "collapsed": true
   },
   "outputs": [],
   "source": []
  },
  {
   "cell_type": "markdown",
   "metadata": {},
   "source": [
    "# Evaluation and Validation of Machine learning algorithms\n",
    "\n",
    "\n"
   ]
  },
  {
   "cell_type": "markdown",
   "metadata": {},
   "source": [
    "\n",
    "### Two of the most popular strategies to perform the validation step are the hold-out strategy and the k-fold strategy."
   ]
  },
  {
   "cell_type": "markdown",
   "metadata": {},
   "source": [
    "# Validation methods\n",
    "\n",
    "\n",
    "3.1. Cross-validation: evaluating estimator performance\n",
    "\n",
    "    3.1.1. Computing cross-validated metrics\n",
    "        3.1.1.1. The cross_validate function and multiple metric evaluation\n",
    "        3.1.1.2. Obtaining predictions by cross-validation\n",
    "    3.1.2. Cross validation iterators\n",
    "        3.1.2.1. Cross-validation iterators for i.i.d. data\n",
    "            3.1.2.1.1. K-fold\n",
    "            3.1.2.1.2. Repeated K-Fold\n",
    "            3.1.2.1.3. Leave One Out (LOO)\n",
    "            3.1.2.1.4. Leave P Out (LPO)\n",
    "            3.1.2.1.5. Random permutations cross-validation a.k.a. Shuffle & Split\n",
    "        3.1.2.2. Cross-validation iterators with stratification based on class labels.\n",
    "            3.1.2.2.1. Stratified k-fold\n",
    "            3.1.2.2.2. Stratified Shuffle Split\n",
    "        3.1.2.3. Cross-validation iterators for grouped data.\n",
    "            3.1.2.3.1. Group k-fold\n",
    "            3.1.2.3.2. Leave One Group Out\n",
    "            3.1.2.3.3. Leave P Groups Out\n",
    "            3.1.2.3.4. Group Shuffle Split\n",
    "        3.1.2.4. Predefined Fold-Splits / Validation-Sets\n",
    "        3.1.2.5. Cross validation of time series data\n",
    "            3.1.2.5.1. Time Series Split\n",
    "    3.1.3. A note on shuffling\n",
    "    3.1.4. Cross validation and model selection\n",
    "    \n",
    "  \n",
    "\n",
    "3.2. Tuning the hyper-parameters of an estimator\n",
    "\n",
    "\n",
    "     \n",
    "\n",
    "3.5. Validation curves: plotting scores to evaluate models\n",
    "\n",
    "    3.5.1. Validation curve\n",
    "    3.5.2. Learning curve\n",
    "\n"
   ]
  },
  {
   "cell_type": "markdown",
   "metadata": {},
   "source": [
    "# Overfitting and Underfitting\n",
    "• Underfitting refers to a model that can\n",
    "neither model the training data not generalize\n",
    "to new data\n",
    "• An underfit machine learning model is not a\n",
    "suitable model and it will have poor\n",
    "performance on the training data"
   ]
  },
  {
   "cell_type": "markdown",
   "metadata": {},
   "source": [
    "# Cross-Validation\n",
    "\n",
    "### A partial remedy to the problem of an overfit machine learning model using a technique known as cross-validation.\n",
    "\n",
    "\n",
    "This process of deciding whether the numerical results quantifying hypothesized relationships between variables, are acceptable as descriptions of the data, is known as validation."
   ]
  },
  {
   "cell_type": "markdown",
   "metadata": {},
   "source": [
    "# K-Fold Cross Validation\n",
    "\n",
    "By reducing the training data, we risk losing important patterns/ trends in data set, which in turn increases error induced by bias. "
   ]
  },
  {
   "cell_type": "markdown",
   "metadata": {},
   "source": [
    "# Stratified K-Fold Cross Validation\n",
    "\n",
    "In some cases, there may be a large imbalance in the response variables. For example, in dataset concerning price of houses, there might be large number of houses having high price."
   ]
  },
  {
   "cell_type": "markdown",
   "metadata": {},
   "source": [
    "# Leave-P-Out Cross Validation\n",
    "\n",
    "This approach leaves p data points out of training data, i.e. if there are n data points in the original sample then, n-p samples are used to train the model and p points are used as the validation set.\n",
    "\n",
    "A particular case of this method is when p = 1. This is known as Leave one out cross validation."
   ]
  },
  {
   "cell_type": "markdown",
   "metadata": {},
   "source": [
    "# As size of training and test set determine each other, this leaves us with a tradeoff: pessimistic bias vs high variance.\n",
    "\n",
    "### k-fold Cross validation tackles this problem by keeping the training set large (a fraction of k−1kk−1k of the data is used for training in every iteration) and dealing with the variance of the test error by resampling. "
   ]
  },
  {
   "cell_type": "markdown",
   "metadata": {},
   "source": [
    "# Validation techniques in scikit-learn\n",
    "\n"
   ]
  },
  {
   "cell_type": "markdown",
   "metadata": {},
   "source": [
    "# Data Stratification \n",
    "\n",
    "### means that we randomly split the dataset so that each class is correctly represented in the resulting subsets — the training and the test set.\n",
    "\n",
    "Random subsampling in non-stratified fashion is usually not a big concern if we are working with relatively large and balanced datasets. However, in my opinion, stratified resampling is usually (only) beneficial in machine learning applications. Moreover, stratified sampling is incredibly easy to implement, and Ron Kohavi provides empirical evidence (Kohavi 1995) that stratification has a positive effect on the variance and bias of the estimate in k-fold cross-validation, a technique we will discuss later in this article."
   ]
  },
  {
   "cell_type": "code",
   "execution_count": null,
   "metadata": {
    "collapsed": true
   },
   "outputs": [],
   "source": [
    "# Performance metrics\n",
    "\n"
   ]
  },
  {
   "cell_type": "code",
   "execution_count": null,
   "metadata": {
    "collapsed": true
   },
   "outputs": [],
   "source": []
  },
  {
   "cell_type": "markdown",
   "metadata": {
    "collapsed": true
   },
   "source": [
    "# Types of errors\n",
    "\n",
    "* Type I error\n",
    "\n",
    "* Type II error\n",
    "\n",
    "* False positives\n",
    "\n",
    "* True Negatives"
   ]
  },
  {
   "cell_type": "markdown",
   "metadata": {
    "collapsed": true
   },
   "source": [
    "# Error metrics\n",
    "\n",
    "### Accuracy\n",
    "\n",
    "### precison\n",
    "\n",
    "### Recall\n"
   ]
  },
  {
   "cell_type": "markdown",
   "metadata": {
    "collapsed": true
   },
   "source": [
    "# Receiver operating characteristic\n",
    "\n",
    "## Curves in ROC space"
   ]
  },
  {
   "cell_type": "markdown",
   "metadata": {
    "collapsed": true
   },
   "source": [
    "# Z-score\n",
    "\n"
   ]
  },
  {
   "cell_type": "markdown",
   "metadata": {},
   "source": [
    "#  ROC curves beyond binary classification\n"
   ]
  },
  {
   "cell_type": "code",
   "execution_count": null,
   "metadata": {
    "collapsed": true
   },
   "outputs": [],
   "source": []
  },
  {
   "cell_type": "markdown",
   "metadata": {},
   "source": [
    "Validation and Model Selection\n",
    "In this section, we'll look at model evaluation and the tuning of hyperparameters, which are parameters that define the model.\n",
    "In [1]:\n",
    "\n",
    "from __future__ import print_function, division\n",
    "​\n",
    "%matplotlib inline\n",
    "import numpy as np\n",
    "import matplotlib.pyplot as plt\n",
    "​\n",
    "# Use seaborn for plotting defaults\n",
    "import seaborn as sns; sns.set()\n",
    "Validating Models\n",
    "One of the most important pieces of machine learning is model validation: that is, checking how well your model fits a given dataset. But there are some pitfalls you need to watch out for.\n",
    "Consider the digits example we've been looking at previously. How might we check how well our model fits the data?\n",
    "In [2]:\n",
    "\n",
    "from sklearn.datasets import load_digits\n",
    "digits = load_digits()\n",
    "X = digits.data\n",
    "y = digits.target\n",
    "Let's fit a K-neighbors classifier\n",
    "In [3]:\n",
    "\n",
    "from sklearn.neighbors import KNeighborsClassifier\n",
    "knn = KNeighborsClassifier(n_neighbors=1)\n",
    "knn.fit(X, y)\n",
    "Out[3]:\n",
    "KNeighborsClassifier(algorithm='auto', leaf_size=30, metric='minkowski',\n",
    "           metric_params=None, n_neighbors=1, p=2, weights='uniform')\n",
    "Now we'll use this classifier to predict labels for the data\n",
    "In [4]:\n",
    "\n",
    "y_pred = knn.predict(X)\n",
    "Finally, we can check how well our prediction did:\n",
    "In [5]:\n",
    "\n",
    "print(\"{0} / {1} correct\".format(np.sum(y == y_pred), len(y)))\n",
    "1797 / 1797 correct\n",
    "It seems we have a perfect classifier!\n",
    "Question: what's wrong with this?\n",
    "Validation Sets\n",
    "Above we made the mistake of testing our data on the same set of data that was used for training. This is not generally a good idea. If we optimize our estimator this way, we will tend to over-fit the data: that is, we learn the noise.\n",
    "A better way to test a model is to use a hold-out set which doesn't enter the training. We've seen this before using scikit-learn's train/test split utility:\n",
    "In [6]:\n",
    "\n",
    "from sklearn.cross_validation import train_test_split\n",
    "X_train, X_test, y_train, y_test = train_test_split(X, y)\n",
    "X_train.shape, X_test.shape\n",
    "Out[6]:\n",
    "((1347, 64), (450, 64))\n",
    "Now we train on the training data, and validate on the test data:\n",
    "In [7]:\n",
    "\n",
    "knn = KNeighborsClassifier(n_neighbors=1)\n",
    "knn.fit(X_train, y_train)\n",
    "y_pred = knn.predict(X_test)\n",
    "print(\"{0} / {1} correct\".format(np.sum(y_test == y_pred), len(y_test)))\n",
    "438 / 450 correct\n",
    "This gives us a more reliable estimate of how our model is doing.\n",
    "The metric we're using here, comparing the number of matches to the total number of samples, is known as the accuracy score, and can be computed using the following routine:\n",
    "In [8]:\n",
    "\n",
    "from sklearn.metrics import accuracy_score\n",
    "accuracy_score(y_test, y_pred)\n",
    "Out[8]:\n",
    "0.97333333333333338\n",
    "This can also be computed directly from the model.score method:\n",
    "In [9]:\n",
    "\n",
    "knn.score(X_test, y_test)\n",
    "Out[9]:\n",
    "0.97333333333333338\n",
    "Using this, we can ask how this changes as we change the model parameters, in this case the number of neighbors:\n",
    "In [10]:\n",
    "\n",
    "for n_neighbors in [1, 5, 10, 20, 30]:\n",
    "    knn = KNeighborsClassifier(n_neighbors)\n",
    "    knn.fit(X_train, y_train)\n",
    "    print(n_neighbors, knn.score(X_test, y_test))\n",
    "1 0.973333333333\n",
    "5 0.982222222222\n",
    "10 0.971111111111\n",
    "20 0.955555555556\n",
    "30 0.96\n",
    "We see that in this case, a small number of neighbors seems to be the best option.\n",
    "Cross-Validation\n",
    "One problem with validation sets is that you \"lose\" some of the data. Above, we've only used 3/4 of the data for the training, and used 1/4 for the validation. Another option is to use 2-fold cross-validation, where we split the sample in half and perform the validation twice:\n",
    "In [11]:\n",
    "\n",
    "X1, X2, y1, y2 = train_test_split(X, y, test_size=0.5, random_state=0)\n",
    "X1.shape, X2.shape\n",
    "Out[11]:\n",
    "((898, 64), (899, 64))\n",
    "In [12]:\n",
    "\n",
    "print(KNeighborsClassifier(1).fit(X2, y2).score(X1, y1))\n",
    "print(KNeighborsClassifier(1).fit(X1, y1).score(X2, y2))\n",
    "0.983296213808\n",
    "0.982202447164\n",
    "Thus a two-fold cross-validation gives us two estimates of the score for that parameter.\n",
    "Because this is a bit of a pain to do by hand, scikit-learn has a utility routine to help:\n",
    "In [13]:\n",
    "\n",
    "from sklearn.cross_validation import cross_val_score\n",
    "cv = cross_val_score(KNeighborsClassifier(1), X, y, cv=10)\n",
    "cv.mean()\n",
    "Out[13]:\n",
    "0.97614938602520218\n",
    "K-fold Cross-Validation\n",
    "Here we've used 2-fold cross-validation. This is just one specialization of KK-fold cross-validation, where we split the data into KK chunks and perform KK fits, where each chunk gets a turn as the validation set. We can do this by changing the cv parameter above. Let's do 10-fold cross-validation:\n",
    "In [14]:\n",
    "\n",
    "cross_val_score(KNeighborsClassifier(1), X, y, cv=10)\n",
    "Out[14]:\n",
    "array([ 0.93513514,  0.99453552,  0.97237569,  0.98888889,  0.96089385,\n",
    "        0.98882682,  0.99441341,  0.98876404,  0.97175141,  0.96590909])\n",
    "This gives us an even better idea of how well our model is doing.\n"
   ]
  },
  {
   "cell_type": "markdown",
   "metadata": {
    "slideshow": {
     "slide_type": "slide"
    }
   },
   "source": [
    "# Overfitting, Underfitting, and Model Selection\n",
    "\n",
    "Now that we've gone over the basics of validation, and cross-validation, it's time to go into even more depth regarding model selection.\n",
    "\n",
    "The issues associated with validation and cross-validation are some of the most important aspects of the practice of machine learning. Selecting the optimal model for your data is vital, and is a piece of the problem that is not often appreciated by machine learning practitioners.\n",
    "\n",
    "Of core importance is the following question: If our estimator is underperforming, how should we move forward?\n",
    "Use simpler or more complicated model?\n",
    "\n",
    "Add more features to each observed data point?\n",
    "\n",
    "Add more training samples?\n",
    "\n",
    "The answer is often counter-intuitive. In particular, Sometimes using a more complicated model will give worse results. Also, Sometimes adding training data will not improve your results. The ability to determine what steps will improve your model is what separates the successful machine learning practitioners from the unsuccessful.\n",
    "Illustration of the Bias-Variance Tradeoff\n",
    "\n",
    "\n",
    "\n",
    "\n",
    "\n",
    "When we increase the degree to this extent, it's clear that the resulting fit is no longer reflecting the true underlying distribution, but is more sensitive to the noise in the training data. For this reason, we call it a high-variance model, and we say that it over-fits the data.\n",
    "Just for fun, let's use IPython's interact capability (only in IPython 2.0+) to explore this interactively:\n",
    "In [22]:\n",
    "\n",
    "from IPython.html.widgets import interact\n",
    "​\n",
    "def plot_fit(degree=1, Npts=50):\n",
    "    X, y = make_data(Npts, error=1)\n",
    "    X_test = np.linspace(-0.1, 1.1, 500)[:, None]\n",
    "    \n",
    "    model = PolynomialRegression(degree=degree)\n",
    "    model.fit(X, y)\n",
    "    y_test = model.predict(X_test)\n",
    "​\n",
    "    plt.scatter(X.ravel(), y)\n",
    "    plt.plot(X_test.ravel(), y_test)\n",
    "    plt.ylim(-4, 14)\n",
    "    plt.title(\"mean squared error: {0:.2f}\".format(mean_squared_error(model.predict(X), y)))\n",
    "    \n",
    "interact(plot_fit, degree=[1, 30], Npts=[2, 100]);\n",
    "\n",
    "Detecting Over-fitting with Validation Curves\n",
    "Clearly, computing the error on the training data is not enough (we saw this previously). As above, we can use cross-validation to get a better handle on how the model fit is working.\n",
    "Let's do this here, again using the validation_curve utility. To make things more clear, we'll use a slightly larger dataset:\n",
    "In [23]:\n",
    "\n",
    "X, y = make_data(120, error=1.0)\n",
    "plt.scatter(X, y);\n",
    "\n",
    "In [24]:\n",
    "\n",
    "from sklearn.learning_curve import validation_curve\n",
    "​\n",
    "def rms_error(model, X, y):\n",
    "    y_pred = model.predict(X)\n",
    "    return np.sqrt(np.mean((y - y_pred) ** 2))\n",
    "​\n",
    "degree = np.arange(0, 18)\n",
    "val_train, val_test = validation_curve(PolynomialRegression(), X, y,\n",
    "                                       'polynomialfeatures__degree', degree, cv=7,\n",
    "                                       scoring=rms_error)\n",
    "Now let's plot the validation curves:\n",
    "In [25]:\n",
    "\n",
    "def plot_with_err(x, data, **kwargs):\n",
    "    mu, std = data.mean(1), data.std(1)\n",
    "    lines = plt.plot(x, mu, '-', **kwargs)\n",
    "    plt.fill_between(x, mu - std, mu + std, edgecolor='none',\n",
    "                     facecolor=lines[0].get_color(), alpha=0.2)\n",
    "​\n",
    "plot_with_err(degree, val_train, label='training scores')\n",
    "plot_with_err(degree, val_test, label='validation scores')\n",
    "plt.xlabel('degree'); plt.ylabel('rms error')\n",
    "plt.legend();\n",
    "\n",
    "Notice the trend here, which is common for this type of plot.\n",
    "For a small model complexity, the training error and validation error are very similar. This indicates that the model is under-fitting the data: it doesn't have enough complexity to represent the data. Another way of putting it is that this is a high-bias model.\n",
    "As the model complexity grows, the training and validation scores diverge. This indicates that the model is over-fitting the data: it has so much flexibility, that it fits the noise rather than the underlying trend. Another way of putting it is that this is a high-variance model.\n",
    "Note that the training score (nearly) always improves with model complexity. This is because a more complicated model can fit the noise better, so the model improves. The validation data generally has a sweet spot, which here is around 5 terms.\n",
    "Here's our best-fit model according to the cross-validation:\n",
    "In [26]:\n",
    "\n",
    "model = PolynomialRegression(4).fit(X, y)\n",
    "plt.scatter(X, y)\n",
    "plt.plot(X_test, model.predict(X_test));\n",
    "\n"
   ]
  },
  {
   "cell_type": "code",
   "execution_count": null,
   "metadata": {
    "collapsed": true,
    "slideshow": {
     "slide_type": "slide"
    }
   },
   "outputs": [],
   "source": [
    "# For this section, we'll work with a simple 1D regression problem. This will help us to easily visualize the data and the model, and the results generalize easily to higher-dimensional datasets. \n",
    "\n",
    "\n",
    "# We'll explore a simple linear regression problem. This can be accomplished within scikit-learn with the sklearn.linear_model module.\n",
    "# We'll create a simple nonlinear function that we'd like to fit\n",
    "\n",
    "\n",
    "def test_func(x, err=0.5):\n",
    "    y = 10 - 1. / (x + 0.1)\n",
    "    if err > 0:\n",
    "        y = np.random.normal(y, err)\n",
    "    return y\n",
    "# Now let's create a realization of this dataset:\n",
    "\n",
    "def make_data(N=40, error=1.0, random_seed=1):\n",
    "    # randomly sample the data\n",
    "    np.random.seed(1)\n",
    "    X = np.random.random(N)[:, np.newaxis]\n",
    "    y = test_func(X.ravel(), error)\n",
    "    \n",
    "    return X, y"
   ]
  },
  {
   "cell_type": "markdown",
   "metadata": {
    "slideshow": {
     "slide_type": "slide"
    }
   },
   "source": [
    "# Detecting Data Sufficiency with Learning Curves\n",
    "\n",
    "As you might guess, the exact turning-point of the tradeoff between bias and variance is highly dependent on the number of training points used. Here we'll illustrate the use of learning curves, which display this property.\n",
    "The idea is to plot the mean-squared-error for the training and test set as a function of Number of Training Points\n",
    "\n",
    "\n",
    "\n",
    "\n",
    "\n",
    "\n",
    "\n",
    "\n"
   ]
  },
  {
   "cell_type": "code",
   "execution_count": null,
   "metadata": {
    "collapsed": true,
    "slideshow": {
     "slide_type": "slide"
    }
   },
   "outputs": [],
   "source": [
    "\n",
    "from sklearn.learning_curve import learning_curve\n",
    "​\n",
    "def plot_learning_curve(degree=3):\n",
    "    train_sizes = np.linspace(0.05, 1, 20)\n",
    "    N_train, val_train, val_test = learning_curve(PolynomialRegression(degree),\n",
    "                                                  X, y, train_sizes, cv=5,\n",
    "                                                  scoring=rms_error)\n",
    "    plot_with_err(N_train, val_train, label='training scores')\n",
    "    plot_with_err(N_train, val_test, label='validation scores')\n",
    "    plt.xlabel('Training Set Size'); plt.ylabel('rms error')\n",
    "    plt.ylim(0, 3)\n",
    "    plt.xlim(5, 80)\n",
    "    plt.legend()\n",
    "Let's see what the learning curves look like for a linear model:\n",
    "\n",
    "\n",
    "plot_learning_curve(1)\n"
   ]
  },
  {
   "cell_type": "markdown",
   "metadata": {
    "slideshow": {
     "slide_type": "slide"
    }
   },
   "source": [
    "This shows a typical learning curve: for very few training points, there is a large separation between the training and test error, which indicates over-fitting. Given the same model, for a large number of training points, the training and testing errors converge, which indicates potential under-fitting.\n",
    "As you add more data points, the training error will never increase, and the testing error will never decrease (why do you think this is?)\n",
    "It is easy to see that, in this plot, if you'd like to reduce the MSE down to the nominal value of 1.0 (which is the magnitude of the scatter we put in when constructing the data), then adding more samples will never get you there. For d=1d=1, the two curves have converged and cannot move lower. What about for a larger value of dd?"
   ]
  },
  {
   "cell_type": "markdown",
   "metadata": {
    "slideshow": {
     "slide_type": "slide"
    }
   },
   "source": [
    "For an even more complex model, we still converge, but the convergence only happens for large amounts of training data.\n",
    "So we see the following:\n",
    "you can cause the lines to converge by adding more points or by simplifying the model.\n",
    "you can bring the convergence error down only by increasing the complexity of the model.\n",
    "Thus these curves can give you hints about how you might improve a sub-optimal model. If the curves are already close together, you need more model complexity. If the curves are far apart, you might also improve the model by adding more data.\n",
    "To make this more concrete, imagine some telescope data in which the results are not robust enough. You must think about whether to spend your valuable telescope time observing more objects to get a larger training set, or more attributes of each object in order to improve the model. The answer to this question has real consequences, and can be addressed using these metrics.\n",
    "Summary\n",
    "We've gone over several useful tools for model validation\n",
    "The Training Score shows how well a model fits the data it was trained on. This is not a good indication of model effectiveness\n",
    "The Validation Score shows how well a model fits hold-out data. The most effective method is some form of cross-validation, where multiple hold-out sets are used.\n",
    "Validation Curves are a plot of validation score and training score as a function of model complexity:\n",
    "when the two curves are close, it indicates underfitting\n",
    "when the two curves are separated, it indicates overfitting\n",
    "the \"sweet spot\" is in the middle\n",
    "Learning Curves are a plot of the validation score and training score as a function of Number of training samples\n",
    "when the curves are close, it indicates underfitting, and adding more data will not generally improve the estimator.\n",
    "when the curves are far apart, it indicates overfitting, and adding more data may increase the effectiveness of the model.\n",
    "These tools are powerful means of evaluating your model on your data."
   ]
  },
  {
   "cell_type": "markdown",
   "metadata": {
    "collapsed": true,
    "slideshow": {
     "slide_type": "slide"
    }
   },
   "source": [
    "# Model evaluation procedures\n",
    "\n",
    "Training and testing on the same data\n",
    "\n",
    "Rewards overly complex models that \"overfit\" the training data and won't necessarily generalise\n",
    "\n",
    "Train/test split: Split the dataset into two pieces, so that the model can be trained and tested on different data\n",
    "Better estimate of out-of-sample performance, but still a \"high variance\" estimate\n",
    "Useful due to its speed, simplicity, and flexibility\n",
    "K-fold cross-validation\n",
    "Systematically create \"K\" train/test splits and average the results together\n",
    "Even better estimate of out-of-sample performance\n",
    "Runs \"K\" times slower than train/test split\n",
    "Model evaluation metrics\n",
    "Regression problems: Mean Absolute Error, Mean Squared Error, Root Mean Squared Error\n",
    "Classification problems: Classification accuracy\n"
   ]
  },
  {
   "cell_type": "code",
   "execution_count": null,
   "metadata": {
    "collapsed": true,
    "slideshow": {
     "slide_type": "slide"
    }
   },
   "outputs": [],
   "source": []
  },
  {
   "cell_type": "code",
   "execution_count": null,
   "metadata": {
    "collapsed": true,
    "slideshow": {
     "slide_type": "slide"
    }
   },
   "outputs": [],
   "source": []
  },
  {
   "cell_type": "markdown",
   "metadata": {
    "slideshow": {
     "slide_type": "slide"
    }
   },
   "source": [
    "# "
   ]
  },
  {
   "cell_type": "code",
   "execution_count": null,
   "metadata": {
    "collapsed": true
   },
   "outputs": [],
   "source": [
    "# Algorithms\n",
    "\n",
    "## Supervised and Unsupervised learning\n",
    "\n",
    "* Classification algorithms\n",
    " \n",
    "* Clustering algorithms\n",
    "\n",
    "* Recommendation systems\n",
    "\n",
    "\n",
    "![](./assest/mlalg.png?raw=true)\n",
    "#### Source: "
   ]
  },
  {
   "cell_type": "code",
   "execution_count": null,
   "metadata": {
    "collapsed": true
   },
   "outputs": [],
   "source": [
    "# Classification algorithms\n",
    "\n",
    "* Decision trees\n",
    "* Support vector machines\n",
    "* Neural networks\n",
    "* Kernel methods"
   ]
  },
  {
   "cell_type": "code",
   "execution_count": null,
   "metadata": {
    "collapsed": true
   },
   "outputs": [],
   "source": [
    "# Clustering algorithms\n",
    "\n",
    "* connectivity, density, subspace, group, neural models\n",
    "* "
   ]
  },
  {
   "cell_type": "code",
   "execution_count": null,
   "metadata": {
    "collapsed": true
   },
   "outputs": [],
   "source": [
    "# Recommendation systems\n",
    "\n",
    "* Collaborative filtering\n",
    "* Content-based filtering\n",
    "* Hybrid recommender systems\n",
    "* Opinion-based recommender systems\n",
    "* Multi-criteria recommender system\n",
    "\n",
    "### Netflix prize"
   ]
  },
  {
   "cell_type": "code",
   "execution_count": null,
   "metadata": {
    "collapsed": true
   },
   "outputs": [],
   "source": [
    "# Problem solving using Machine learning\n",
    "\n",
    "### Classification problem\n",
    "### Anomaly detection\n",
    "### Regression \n",
    "### Clustering\n",
    "### Reinforcement learning"
   ]
  },
  {
   "cell_type": "code",
   "execution_count": null,
   "metadata": {
    "collapsed": true
   },
   "outputs": [],
   "source": [
    "# Top 10 Popular Algorithms\n",
    "\n"
   ]
  }
 ],
 "metadata": {
  "celltoolbar": "Slideshow",
  "kernelspec": {
   "display_name": "Python 3",
   "language": "python",
   "name": "python3"
  },
  "language_info": {
   "codemirror_mode": {
    "name": "ipython",
    "version": 3
   },
   "file_extension": ".py",
   "mimetype": "text/x-python",
   "name": "python",
   "nbconvert_exporter": "python",
   "pygments_lexer": "ipython3",
   "version": "3.6.1"
  },
  "nbTranslate": {
   "displayLangs": [
    "*"
   ],
   "hotkey": "alt-t",
   "langInMainMenu": true,
   "sourceLang": "en",
   "targetLang": "fr",
   "useGoogleTranslate": true
  }
 },
 "nbformat": 4,
 "nbformat_minor": 2
}
